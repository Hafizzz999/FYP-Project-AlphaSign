{
 "cells": [
  {
   "cell_type": "code",
   "execution_count": 1,
   "id": "0eb72db3",
   "metadata": {},
   "outputs": [
    {
     "name": "stdout",
     "output_type": "stream",
     "text": [
      "Requirement already satisfied: pyqt5 in c:\\users\\hp\\anaconda3\\envs\\alphasign\\lib\\site-packages (5.15.9)\n",
      "Requirement already satisfied: PyQt5-sip<13,>=12.11 in c:\\users\\hp\\anaconda3\\envs\\alphasign\\lib\\site-packages (from pyqt5) (12.12.2)\n",
      "Requirement already satisfied: PyQt5-Qt5>=5.15.2 in c:\\users\\hp\\anaconda3\\envs\\alphasign\\lib\\site-packages (from pyqt5) (5.15.2)\n",
      "Note: you may need to restart the kernel to use updated packages.\n"
     ]
    }
   ],
   "source": [
    "pip install pyqt5"
   ]
  },
  {
   "cell_type": "code",
   "execution_count": 2,
   "id": "eee612e0",
   "metadata": {},
   "outputs": [
    {
     "name": "stdout",
     "output_type": "stream",
     "text": [
      "Requirement already satisfied: keyboard in c:\\users\\hp\\anaconda3\\envs\\alphasign\\lib\\site-packages (0.13.5)\n",
      "Note: you may need to restart the kernel to use updated packages.\n"
     ]
    }
   ],
   "source": [
    "pip install keyboard"
   ]
  },
  {
   "cell_type": "code",
   "execution_count": 3,
   "id": "ef80ce40",
   "metadata": {},
   "outputs": [
    {
     "name": "stdout",
     "output_type": "stream",
     "text": [
      "Requirement already satisfied: pypiwin32 in c:\\users\\hp\\anaconda3\\envs\\alphasign\\lib\\site-packages (223)\n",
      "Requirement already satisfied: pywin32>=223 in c:\\users\\hp\\anaconda3\\envs\\alphasign\\lib\\site-packages (from pypiwin32) (306)\n",
      "Note: you may need to restart the kernel to use updated packages.\n"
     ]
    }
   ],
   "source": [
    "pip install pypiwin32"
   ]
  },
  {
   "cell_type": "code",
   "execution_count": 4,
   "id": "c7635ed5",
   "metadata": {},
   "outputs": [
    {
     "name": "stdout",
     "output_type": "stream",
     "text": [
      "Requirement already satisfied: pyttsx3 in c:\\users\\hp\\anaconda3\\envs\\alphasign\\lib\\site-packages (2.90)\n",
      "Requirement already satisfied: comtypes in c:\\users\\hp\\anaconda3\\envs\\alphasign\\lib\\site-packages (from pyttsx3) (1.2.0)\n",
      "Requirement already satisfied: pypiwin32 in c:\\users\\hp\\anaconda3\\envs\\alphasign\\lib\\site-packages (from pyttsx3) (223)\n",
      "Requirement already satisfied: pywin32 in c:\\users\\hp\\anaconda3\\envs\\alphasign\\lib\\site-packages (from pyttsx3) (306)\n",
      "Note: you may need to restart the kernel to use updated packages.\n"
     ]
    }
   ],
   "source": [
    "pip install pyttsx3"
   ]
  },
  {
   "cell_type": "code",
   "execution_count": 5,
   "id": "58887f41",
   "metadata": {},
   "outputs": [
    {
     "name": "stdout",
     "output_type": "stream",
     "text": [
      "Requirement already satisfied: scipy in c:\\users\\hp\\anaconda3\\envs\\alphasign\\lib\\site-packages (1.11.2)\n",
      "Requirement already satisfied: numpy<1.28.0,>=1.21.6 in c:\\users\\hp\\anaconda3\\envs\\alphasign\\lib\\site-packages (from scipy) (1.24.4)\n",
      "Note: you may need to restart the kernel to use updated packages.\n"
     ]
    }
   ],
   "source": [
    "pip install scipy"
   ]
  },
  {
   "cell_type": "code",
   "execution_count": 6,
   "id": "c08f4b4c",
   "metadata": {},
   "outputs": [
    {
     "name": "stdout",
     "output_type": "stream",
     "text": [
      "Collecting qimage2ndarray\n",
      "  Downloading qimage2ndarray-1.10.0-py3-none-any.whl (12 kB)\n",
      "Requirement already satisfied: numpy in c:\\users\\hp\\anaconda3\\envs\\alphasign\\lib\\site-packages (from qimage2ndarray) (1.24.4)\n",
      "Installing collected packages: qimage2ndarray\n",
      "Successfully installed qimage2ndarray-1.10.0\n",
      "Note: you may need to restart the kernel to use updated packages.\n"
     ]
    }
   ],
   "source": [
    "pip install qimage2ndarray"
   ]
  },
  {
   "cell_type": "code",
   "execution_count": 1,
   "id": "a65cace6",
   "metadata": {},
   "outputs": [
    {
     "name": "stdout",
     "output_type": "stream",
     "text": [
      "Collecting imageio\n",
      "  Obtaining dependency information for imageio from https://files.pythonhosted.org/packages/c0/69/3aaa69cb0748e33e644fda114c9abd3186ce369edd4fca11107e9f39c6a7/imageio-2.33.1-py3-none-any.whl.metadata\n",
      "  Downloading imageio-2.33.1-py3-none-any.whl.metadata (4.9 kB)\n",
      "Requirement already satisfied: numpy in c:\\users\\hp\\anaconda3\\envs\\alphasign\\lib\\site-packages (from imageio) (1.24.4)\n",
      "Requirement already satisfied: pillow>=8.3.2 in c:\\users\\hp\\anaconda3\\envs\\alphasign\\lib\\site-packages (from imageio) (10.0.0)\n",
      "Downloading imageio-2.33.1-py3-none-any.whl (313 kB)\n",
      "   ---------------------------------------- 0.0/313.3 kB ? eta -:--:--\n",
      "   - -------------------------------------- 10.2/313.3 kB ? eta -:--:--\n",
      "   ----- --------------------------------- 41.0/313.3 kB 393.8 kB/s eta 0:00:01\n",
      "   ----------- --------------------------- 92.2/313.3 kB 751.6 kB/s eta 0:00:01\n",
      "   ------------------ ------------------- 153.6/313.3 kB 919.0 kB/s eta 0:00:01\n",
      "   --------------------- ---------------- 174.1/313.3 kB 748.1 kB/s eta 0:00:01\n",
      "   ------------------------------- ------ 256.0/313.3 kB 923.9 kB/s eta 0:00:01\n",
      "   -------------------------------------- 313.3/313.3 kB 968.4 kB/s eta 0:00:00\n",
      "Installing collected packages: imageio\n",
      "Successfully installed imageio-2.33.1\n",
      "Note: you may need to restart the kernel to use updated packages.\n"
     ]
    }
   ],
   "source": [
    "pip install imageio"
   ]
  },
  {
   "cell_type": "code",
   "execution_count": null,
   "id": "1abf5b29",
   "metadata": {},
   "outputs": [],
   "source": []
  }
 ],
 "metadata": {
  "kernelspec": {
   "display_name": "alphasign",
   "language": "python",
   "name": "alphasign"
  },
  "language_info": {
   "codemirror_mode": {
    "name": "ipython",
    "version": 3
   },
   "file_extension": ".py",
   "mimetype": "text/x-python",
   "name": "python",
   "nbconvert_exporter": "python",
   "pygments_lexer": "ipython3",
   "version": "3.9.17"
  }
 },
 "nbformat": 4,
 "nbformat_minor": 5
}
